{
 "cells": [
  {
   "cell_type": "markdown",
   "metadata": {},
   "source": [
    "<font face=\"Arial\" size=10 color=#000000 > Non-liner Optimization Exercise</font>"
   ]
  },
  {
   "cell_type": "markdown",
   "metadata": {},
   "source": [
    "<font face=\"Arial\" size=5 color=#000000 > 1. Import packages</font>\n",
    "\n",
    "<font face=\"Arial\" size=3 color=#404040  >\n",
    "    \n",
    "    * Use scipy.optimize.minimize package to do optimization\n",
    "    * Use xlwt to store output in excel"
   ]
  },
  {
   "cell_type": "code",
   "execution_count": 1,
   "metadata": {},
   "outputs": [],
   "source": [
    "import pandas as pd\n",
    "import numpy as np\n",
    "import xlwt\n",
    "from scipy.optimize import minimize"
   ]
  },
  {
   "cell_type": "markdown",
   "metadata": {},
   "source": [
    "<font face=\"Arial\" size=5 color=#000000> 2. Read data</font>\n",
    "\n",
    "<font face=\"Arial\" size=3 color=#404040>\n",
    "    \n",
    "    * Use DataFrame to store data\n",
    "    * Slice data into different subsets "
   ]
  },
  {
   "cell_type": "code",
   "execution_count": 2,
   "metadata": {},
   "outputs": [],
   "source": [
    "#import data from excel and store every sheet as a DataFrame\n",
    "sheet1 = pd.read_excel('Non-linear optimization exercise.xlsx',sheet_name='Mock balance sheet',header=2)\n",
    "sheet2 = pd.read_excel('Non-linear optimization exercise.xlsx',sheet_name='Linkages',header=0)\n",
    "\n",
    "#slice data into different DataFrame\n",
    "characteristics = sheet1.loc[:,'Product':'CCAR losses, actual'] #256 rows × 34 columns\n",
    "constraint_capacity = sheet1.loc[:,'Shrink':'Grow'] #256 rows × 2 columns, all are constant numbers\n",
    "constraint_ratio = sheet1.loc[0:28,'Ratio':'Optimized Ratio'] #29 rows × 4 columns, including NaN. To match cells in excel, keep NaN for a while\n",
    "ratio_helper = sheet1.loc[0:51,'Ratio Components':'Optimized Ratio Components'] #52 rows × 4 columns,\n",
    "GSIB_coefficient = sheet1.loc[0:8,'Metrics':'Basel'] #9 rows × 3 columns, all are constant numbers\n",
    "linkages = sheet2 #96 rows × 90 columns，all are constant numbers\n",
    "\n",
    "#define constant number\n",
    "N = len(characteristics['Product']) #number of products in total\n",
    "n1 = len(constraint_ratio.dropna(axis = 0,how = 'any',thresh = 2)) # number of ratio constraints\n",
    "n2 = len(linkages.columns)-1 # number of linkage constraints"
   ]
  },
  {
   "cell_type": "markdown",
   "metadata": {},
   "source": [
    "<font face=\"Arial\" size=5 color=#000000 > 3.Define Objective function</font>\n",
    "\n",
    "<font face=\"Arial\" size=3 color=#404040>\n",
    "    \n",
    "    * Denote x as an array which stores 256 variables, namely, optimized notional \n",
    "    * To caluculate maximized sav, use minimized sav*(-1)"
   ]
  },
  {
   "cell_type": "code",
   "execution_count": 3,
   "metadata": {},
   "outputs": [],
   "source": [
    "def objective(x):\n",
    "    return x.dot(characteristics['NSI']) * (-1)"
   ]
  },
  {
   "cell_type": "markdown",
   "metadata": {},
   "source": [
    "<font face=\"Arial\" size=5 color=#000000 > 4.Define Constraints</font>"
   ]
  },
  {
   "cell_type": "markdown",
   "metadata": {},
   "source": [
    "<font face=\"Arial\" size=4 color=#404040 > 4.1 Constraint 1: CAPACITY</font>\n",
    "<font face=\"Arial\" size=3 color=#404040>\n",
    "    \n",
    "    * The optimized notional should be larger than (staring notional + shrink) and smaller than (staring notional + grow)\n",
    "    * The optimized notional should be larger than 0\n",
    "    * Each element in x has individual lower and upper limits. To simplify codes, set parameter \"bounds\", rather than 256*2 constraints"
   ]
  },
  {
   "cell_type": "code",
   "execution_count": 4,
   "metadata": {},
   "outputs": [],
   "source": [
    "lower = characteristics.iloc[:,1] + constraint_capacity.iloc[:,0]\n",
    "upper = characteristics.iloc[:,1] + constraint_capacity.iloc[:,1]\n",
    "a = max(0,lower[0])\n",
    "b = max(0,upper[0])\n",
    "bounds_capacity = np.array([[a,b]])\n",
    "\n",
    "for i in np.arange(1,N):\n",
    "    a = max(0,lower[i])\n",
    "    b = max(0,upper[i])\n",
    "    bounds_capacity = np.append(bounds_capacity,[[a,b]], axis = 0)"
   ]
  },
  {
   "cell_type": "markdown",
   "metadata": {},
   "source": [
    "<font face=\"Arial\" size=4 color=#404040 > 4.2 Constraint 2: RATIOS</font>\n",
    "<font face=\"Arial\" size=3 color=#404040>\n",
    "    \n",
    "    * Optimized raios should be no less than constraints, 24 constraints\n",
    "    * GAAP asset = GAAP liability, 1 constraints\n",
    "    * To simplify codes, record constraints status into an array. If constrint holds, record 1, otherwise 0. Only when all contraints holds, the product of the array equals to 1, otherwise 0."
   ]
  },
  {
   "cell_type": "code",
   "execution_count": 5,
   "metadata": {},
   "outputs": [],
   "source": [
    "#define special functions used in excel file\n",
    "\n",
    "#return a number rounded to the desired multiple\n",
    "def mround(a, b):\n",
    "    return (abs(a % b) >= abs(b / 2))*b + (int(a / b))*b\n",
    "\n",
    "#return a/b; otherwise capture errors when calculating and returns 0\n",
    "def iferror(a,b, t = 0):\n",
    "    try:\n",
    "        return a/b\n",
    "    except:\n",
    "        return t\n",
    "\n",
    "def con_ratios(x):\n",
    "    #First, calculate ratio helpers\n",
    "    #Since ratio helpers are not calculated in order, list every formula instead of using loop\n",
    "    \n",
    "    #Define as1 correspends to column AS in excel spreedsheet. \n",
    "    #The element as1[i] correspends column AS row i in excel spreedsheet.Other empty rows are 0.\n",
    "    \n",
    "    as1 = np.zeros(56)\n",
    "    as1[10] = x.dot(characteristics['CET1'].values)\n",
    "    as1[11] = x.dot(characteristics['Tier 1 \\ncapital'].values)\n",
    "    as1[12] = x.dot(characteristics['Total capital \\nstd'].values)\n",
    "    as1[13] = x.dot(characteristics['Total capital\\nadv'].values)\n",
    "    as1[14] = x.dot(characteristics['TLAC'].values)\n",
    "    as1[15] = x.dot(characteristics['LTD'].values)\n",
    "    as1[16] = x.dot(characteristics['Std \\nRWA'].values)\n",
    "    as1[17] = x.dot(characteristics['Adv \\nRWA'].values)\n",
    "    as1[18] = x.dot(characteristics['CCAR \\nStd RWA'].values)\n",
    "    as1[19] = x.dot(characteristics['Spot\\nGAAP \\nassets'].values)\n",
    "    as1[20] = x.dot(characteristics['Spot GAAP \\nliabilities'].values)\n",
    "    as1[21] = x.dot(characteristics['Basel III leverage'].values)\n",
    "    as1[22] = x.dot(characteristics['CCAR leverage'].values)\n",
    "    as1[31] = x.dot(characteristics['SLR'].values) * GSIB_coefficient['US'].iloc[0]\n",
    "    as1[29] = x.dot(characteristics['Cross-JD \\nclaims'].values) * GSIB_coefficient['US'].iloc[1]\n",
    "    as1[30] = x.dot(characteristics['Cross-JD \\nliabilities'].values) * GSIB_coefficient['US'].iloc[2]\n",
    "    as1[32] = x.dot(characteristics['IFS \\nassets'].values) * GSIB_coefficient['US'].iloc[3]\n",
    "    as1[33] = x.dot(characteristics['IFS \\nliabilities'].values) * GSIB_coefficient['US'].iloc[4]\n",
    "    as1[34] = x.dot(characteristics['Marketable \\nsecurities'].values) * GSIB_coefficient['US'].iloc[5]\n",
    "    as1[35] = x.dot(characteristics['OTC \\nderivs'].values) * GSIB_coefficient['US'].iloc[6]\n",
    "    as1[36] = x.dot(characteristics['L3 \\nassets'].values) * GSIB_coefficient['US'].iloc[7]\n",
    "    as1[37] = x.dot(characteristics['Trad / \\nAFS \\nsecurities'].values) * GSIB_coefficient['US'].iloc[8]\n",
    "    as1[38] = x.dot(characteristics['STWF']) / max(as1[16], as1[17]) * 350\n",
    "    as1[39] = x.dot(characteristics['SLR'].values) * GSIB_coefficient['Basel'].iloc[0]\n",
    "    as1[40] = x.dot(characteristics['Cross-JD \\nclaims'].values) * GSIB_coefficient['Basel'].iloc[1]\n",
    "    as1[41] = x.dot(characteristics['Cross-JD \\nliabilities'].values) * GSIB_coefficient['Basel'].iloc[2]\n",
    "    as1[42] = x.dot(characteristics['IFS \\nassets'].values) * GSIB_coefficient['Basel'].iloc[3]\n",
    "    as1[43] = x.dot(characteristics['IFS \\nliabilities'].values) * GSIB_coefficient['Basel'].iloc[4]\n",
    "    as1[44] = x.dot(characteristics['Marketable \\nsecurities'].values) * GSIB_coefficient['Basel'].iloc[5]\n",
    "    as1[45] = x.dot(characteristics['OTC \\nderivs'].values) * GSIB_coefficient['Basel'].iloc[6]\n",
    "    as1[46] = x.dot(characteristics['L3 \\nassets'].values) * GSIB_coefficient['Basel'].iloc[7]\n",
    "    as1[47] = x.dot(characteristics['Trad / \\nAFS \\nsecurities'].values) * GSIB_coefficient['Basel'].iloc[8]\n",
    "    as1[48] = 100\n",
    "    as1[49] = x.dot(characteristics['CCAR losses, actual'].values)*(-1)\n",
    "    as1[50] = x.dot(characteristics['JPM\\nLAB'].values)\n",
    "    as1[51] = x.dot(characteristics['JPM\\nNFO'].values)\n",
    "    as1[52] = x.dot(characteristics['LCR\\nHQLA'].values)\n",
    "    as1[53] = x.dot(characteristics['LCR\\nNFO'].values)\n",
    "    as1[54] = x.dot(characteristics['ASF'].values)\n",
    "    as1[55] = x.dot(characteristics['RSF'].values)\n",
    "\n",
    "    as1[28] = as1[39] + as1[40] + as1[41] + as1[42] + as1[43] + as1[44] + as1[45] + as1[46] + as1[47] + as1[48]\n",
    "    as1[27] = as1[28] / 2e4\n",
    "    as1[26] = mround((as1[28] + 20) / 1e4, .01) / 2\n",
    "    as1[25] = as1[29] + as1[30] + as1[31] + as1[32] + as1[33] + as1[34] + as1[35] + as1[36] + as1[37] + as1[38]\n",
    "    as1[24] = as1[25] / 2e4\n",
    "    as1[23] = mround((as1[25] + 20) / 2e4, .005)\n",
    "    as1[4] = as1[24] * as1[16]\n",
    "    as1[5] = as1[24] * as1[17]\n",
    "    as1[6] = as1[24] * as1[18]\n",
    "    as1[7] = as1[26] * as1[16]\n",
    "    as1[8] = as1[26] * as1[17]\n",
    "    as1[9] = as1[26] * as1[18]\n",
    "    \n",
    "    \n",
    "    #Second, calculate constrainted ratios\n",
    "    \n",
    "    #Define ao1 correspends to column AO in excel spreedsheet. \n",
    "    #The element ao1[i] correspends column AO row i in excel spreedsheet.Other empty rows are 0.     \n",
    "    \n",
    "    ao1 = np.zeros(33)\n",
    "    \n",
    "    ao1[5] = iferror((as1[10] - as1[4]), as1[16])\n",
    "    ao1[6] = iferror((as1[11] - as1[4]), as1[16])\n",
    "    ao1[7] = iferror((as1[12] - as1[4]), as1[16])\n",
    "    ao1[8] = iferror((as1[14] - as1[4]), as1[16])\n",
    "    ao1[9] = iferror((as1[15] - as1[4]), as1[16])\n",
    "    ao1[10] = iferror((as1[10] - as1[5]), as1[17])\n",
    "    ao1[11] = iferror((as1[11] - as1[5]), as1[17])\n",
    "    ao1[12] = iferror((as1[13] - as1[5]), as1[17])\n",
    "    ao1[13] = iferror((as1[14] - as1[8]), as1[17])\n",
    "    ao1[14] = iferror((as1[15] - as1[5]), as1[17])\n",
    "    ao1[15] = iferror((as1[10] - as1[49]), as1[18])\n",
    "    ao1[16] = iferror((as1[11] - as1[49]), as1[18])\n",
    "    ao1[17] = iferror((as1[12] - as1[49]), as1[18])\n",
    "    ao1[18] = iferror(as1[11], as1[21])\n",
    "    ao1[19] = iferror(as1[14], as1[21])\n",
    "    ao1[20] = iferror(as1[15], as1[21])\n",
    "    ao1[21] = iferror((as1[11] - as1[49]), as1[22])\n",
    "    ao1[24] = iferror(as1[50], as1[51])\n",
    "    ao1[25] = iferror(as1[52], as1[53])\n",
    "    ao1[26] = iferror(as1[54], as1[55])\n",
    "    ao1[29] = ao1[30] = as1[25]\n",
    "    ao1[31] = ao1[32] = as1[28]\n",
    "\n",
    "\n",
    "    #delete 0 and generate an array with 24 target ratios stored \n",
    "    index = np.where(ao1 == 0)#get indexs of 0\n",
    "    new_ao1 = np.delete(ao1, index) # delete 0\n",
    "    #delete NaN and generate an array with 24 target ratios' thresholds stored\n",
    "    threshold = constraint_ratio['Constraint'].dropna().values    \n",
    "    \n",
    "    \n",
    "    #Use output array to record constraints status. \n",
    "    #If constrint holds, record 1, otherwise 0. \n",
    "    output = np.array([])\n",
    "    \n",
    "    # n1 = 24 inequality on ratio constraints\n",
    "    for i in range(n1):\n",
    "        if new_ao1[i] >= threshold[i]:\n",
    "            output = np.append(output,1)\n",
    "        else:\n",
    "            output = np.append(output,0)\n",
    "    # 1 equality on GAAP asst and GAAP liability\n",
    "    if as1[19] == as1[20]:\n",
    "        output = np.append(output,1)\n",
    "    else:\n",
    "        output = np.append(output,0) \n",
    "    \n",
    "    #if all cnstraints are satisfied, return 0; otherwise -1\n",
    "    return np.prod(output)-1\n"
   ]
  },
  {
   "cell_type": "markdown",
   "metadata": {},
   "source": [
    "<font face=\"Arial\" size=4 color=#404040 > 4.3 Constraint 3: LINKAGES</font>\n",
    "<font face=\"Arial\" size=3 color=#404040>\n",
    "    \n",
    "    * There are n2 = 89 constraints in total\n",
    "    * For every column: (optimized notional - starting notional) >= sum of every row[(optimized notional - starting notional) * correlation number]\n",
    "    * To simplify codes, record constraints status into an array. If constraint holds, record 1, otherwise 0. Only when all contraints holds, the product of the array equals to 1, otherwise 0."
   ]
  },
  {
   "cell_type": "code",
   "execution_count": 6,
   "metadata": {},
   "outputs": [],
   "source": [
    "def con_linkage(x):\n",
    "    \n",
    "    #define a dictionary called idmap: the key i is Product name and the value is the product index in DataFrame characteristics\n",
    "    idmap = {i: n for n, i in enumerate(characteristics['Product'])}\n",
    "    output = np.array([])\n",
    "    \n",
    "    #for every column, the total change of the product itself >= sum of changes coming from changes of all rows \n",
    "    for i in linkages.columns[1:]:\n",
    "        tmp_linkage = linkages[i]\n",
    "        \n",
    "        #the total change of the product itself \n",
    "        deltas = x[idmap[i]] - characteristics[characteristics['Product'] == i]['Starting notional'].iloc[0]\n",
    "        #sum of changes coming from changes of all rows \n",
    "        for n, j in enumerate(linkages.iloc[:, 0]):\n",
    "            deltas -= (x[idmap[j]] - characteristics[characteristics['Product'] == j]['Starting notional'].iloc[0]) * tmp_linkage.iloc[n]\n",
    "        \n",
    "        # n2 = 89 inequality on ratio constraints\n",
    "        if deltas >= 0:\n",
    "            output = np.append(output,1)\n",
    "        else:\n",
    "            output = np.append(output,0)\n",
    "    \n",
    "    #if all cnstraints are satisfied, return 0, else return -1\n",
    "    return np.prod(output)-1\n",
    "\n",
    "#connect constraints together and store in a dictionary called cons\n",
    "con1 = {'type': 'eq', 'fun': con_ratios}\n",
    "con2 = {'type': 'eq', 'fun': con_linkage} \n",
    "cons = ([con1,con2]) "
   ]
  },
  {
   "cell_type": "markdown",
   "metadata": {},
   "source": [
    "<font face=\"Arial\" size=5 color=#00000 > 5.Initial Projection</font>\n",
    "<font face=\"Arial\" size=3 color=#404040>\n",
    "    \n",
    "    * Use starting notional as initial projection"
   ]
  },
  {
   "cell_type": "code",
   "execution_count": 7,
   "metadata": {},
   "outputs": [],
   "source": [
    "x0 = np.empty(N)\n",
    "for i in range(N):\n",
    "    x0[i] = characteristics.iloc[i,1]"
   ]
  },
  {
   "cell_type": "markdown",
   "metadata": {},
   "source": [
    "<font face=\"Arial\" size=5 color=#000000 > 6.Result</font>"
   ]
  },
  {
   "cell_type": "code",
   "execution_count": 8,
   "metadata": {},
   "outputs": [
    {
     "name": "stdout",
     "output_type": "stream",
     "text": [
      "the maximized sva is 174929.52148746757\n",
      "the calculation exits successfully: False\n",
      "the result message: Singular matrix C in LSQ subproblem\n",
      "the optimized notional is [6.90015760e+00 2.91668313e+00 2.80936071e+00 7.98955180e+00\n",
      " 1.06771249e+01 3.01381910e+00 3.78768224e+00 1.19451915e+00\n",
      " 1.31129513e+00 3.32664728e+01 3.88496677e+01 0.00000000e+00\n",
      " 1.26364999e-03 6.91156255e-01 3.59933364e-01 1.50496828e-01\n",
      " 6.95678633e-02 1.44414875e+01 6.18965418e+00 8.17150644e-02\n",
      " 3.01450062e-02 1.77031957e-01 7.95888684e-02 8.96022930e+00\n",
      " 3.34167792e+00 3.62446890e+00 3.79749543e+00 6.52326843e+00\n",
      " 1.07149855e+00 2.00326030e+00 7.44587518e+00 1.97344057e+01\n",
      " 3.43811080e+00 1.72886659e+00 1.91385946e+00 2.00690380e+01\n",
      " 1.67000580e+01 1.56994560e+01 0.00000000e+00 0.00000000e+00\n",
      " 1.21514306e-02 2.51776054e+00 7.13351389e-01 1.54767013e+01\n",
      " 4.93671972e+00 1.47077204e-01 1.99394539e+01 1.19480321e+01\n",
      " 1.10681840e+01 5.76223496e+00 8.99736912e+00 1.00144668e+01\n",
      " 6.30820527e+00 2.11242021e+01 1.45296772e+01 3.51711889e+00\n",
      " 2.35624196e+01 5.42137445e+00 3.53674599e+00 9.21198087e-02\n",
      " 2.21027598e+01 1.74508385e+01 1.38679434e+00 6.99848390e+00\n",
      " 4.61594663e+00 4.46324207e+00 4.92993471e+00 2.55096208e-02\n",
      " 5.97886856e+02 4.94975117e+02 9.78685473e+01 2.66811224e+01\n",
      " 1.99677173e+00 1.45590054e+01 6.63027944e+00 2.27115196e+01\n",
      " 9.69620749e+00 1.55278107e+01 2.29520783e+01 1.50327724e+01\n",
      " 6.48329601e+00 8.17142860e-01 7.57134161e+00 4.02989244e+01\n",
      " 1.56427132e+00 1.42750402e+01 3.35908100e+00 9.58600335e+01\n",
      " 1.53298895e+01 5.34610074e+00 1.81669489e+01 7.55344446e+00\n",
      " 2.47833698e+00 3.44853065e-01 5.16152449e+00 7.94843199e-01\n",
      " 0.00000000e+00 2.04759812e+00 1.32408423e+00 1.13213450e+01\n",
      " 3.55316564e+00 9.30823669e+00 1.85987124e+03 5.74273785e+02\n",
      " 3.61310090e+02 2.51494468e+02 0.00000000e+00 0.00000000e+00\n",
      " 0.00000000e+00 0.00000000e+00 0.00000000e+00 0.00000000e+00\n",
      " 0.00000000e+00 0.00000000e+00 0.00000000e+00 0.00000000e+00\n",
      " 0.00000000e+00 0.00000000e+00 3.71514339e+01 1.48240875e+01\n",
      " 1.92549699e+01 1.42960461e+01 1.59232120e+00 3.16128352e+00\n",
      " 3.07980366e+00 5.93941181e+00 1.60358156e+00 6.28493252e+00\n",
      " 9.49998338e-01 1.41405103e+01 1.87175940e+01 1.61676324e+00\n",
      " 1.33190035e+01 1.66115307e+01 4.40322528e+00 0.00000000e+00\n",
      " 1.77722060e+01 3.16126089e+00 1.48065363e+00 5.59268379e+00\n",
      " 2.17752511e+00 1.15877278e+00 1.85639931e-01 6.59830989e-01\n",
      " 4.25080559e+00 6.26478771e+00 2.63304932e+00 6.00689628e-02\n",
      " 6.08619331e+01 1.10865746e+00 1.16487979e+00 2.55554580e+01\n",
      " 1.82953895e+00 1.38497853e+00 4.80456357e-01 5.18623255e+00\n",
      " 4.72191421e-01 4.51076964e+01 1.26004053e+01 9.62979304e+00\n",
      " 1.34930280e-01 3.62213117e+01 5.86855375e+00 1.13256617e+01\n",
      " 1.41713662e-01 1.52282946e+01 2.86069289e+00 8.68724186e+00\n",
      " 4.96238842e+00 1.71326568e+01 1.16287409e+01 7.35853289e+01\n",
      " 1.72019210e+01 6.08782669e+00 6.18466560e+00 6.12465596e+00\n",
      " 3.20105395e+01 3.48169667e+01 2.05253671e+01 1.55658018e+00\n",
      " 9.86349945e+00 7.52556470e+00 3.31414057e+00 1.92116062e+00\n",
      " 8.28091851e+00 3.62134629e+00 1.99058640e+00 9.32626918e-01\n",
      " 1.75760700e+01 5.25173465e+01 6.60529640e+01 2.56797931e+01\n",
      " 2.43715014e+01 9.65494759e+00 3.53604288e+01 3.11918161e+01\n",
      " 5.39787288e+01 1.46379975e+01 5.04039003e+01 8.01496767e-02\n",
      " 3.81208964e+01 6.85727312e+01 4.58312725e+00 4.58231392e+01\n",
      " 3.17860252e+01 1.33351455e+02 8.33538844e+00 2.19886229e+01\n",
      " 7.01498881e-02 7.64281290e+00 2.41121005e+01 1.04882629e+01\n",
      " 1.03157613e+01 1.08039895e+02 1.05650830e+02 1.03422731e+02\n",
      " 8.31080570e+00 4.02378858e+01 2.52065596e+01 1.52722518e+01\n",
      " 1.24451617e+01 9.25021595e+00 2.38923277e+01 9.25919381e+00\n",
      " 7.69892814e+00 2.32160928e+01 4.74799342e+00 3.48211359e-02\n",
      " 5.17077506e+00 0.00000000e+00 8.39375359e+00 7.08696524e-01\n",
      " 7.39020533e+00 2.21303227e+01 3.30257152e-01 4.96419208e+00\n",
      " 2.40558843e+01 3.04633537e+00 0.00000000e+00 0.00000000e+00\n",
      " 0.00000000e+00 1.44698977e-01 1.13834498e+00 3.83968646e-01\n",
      " 2.33511054e+01 5.33678690e+01 1.90052293e+01 1.12816928e+02\n",
      " 3.24842528e+01 1.65583844e+01 2.52901904e+02 2.44293203e+01\n",
      " 0.00000000e+00 3.37149615e+02 1.16264346e+02 1.35853968e+02]\n"
     ]
    }
   ],
   "source": [
    "result = minimize(objective,x0,method='SLSQP',bounds=bounds_capacity,constraints=cons)\n",
    "sva = result.fun*(-1)\n",
    "opti = result.x \n",
    "\n",
    "print('the maximized sva is {}'.format(sva))\n",
    "print('the calculation exits successfully: {}'.format(result.success))\n",
    "print('the result message: {}'.format(result.message))\n",
    "print('the optimized notional is {}'.format(opti))\n"
   ]
  },
  {
   "cell_type": "markdown",
   "metadata": {},
   "source": [
    "<font face=\"Arial\" size=5 color=#000000 > 7.Examine\n",
    "<font face=\"Arial\" size=3 color=#404040>\n",
    "    \n",
    "    * Capacity\n",
    "    * Ratio\n",
    "    * Linkage"
   ]
  },
  {
   "cell_type": "code",
   "execution_count": 9,
   "metadata": {},
   "outputs": [
    {
     "name": "stdout",
     "output_type": "stream",
     "text": [
      "the capacity constraints hold\n"
     ]
    }
   ],
   "source": [
    "#examine if capacity constraints hold\n",
    "diff1 = (opti >= lower) & (opti >= 0)\n",
    "diff2 = (opti <= upper) | (opti <= 0) \n",
    "diff3 = opti >= 0\n",
    "examine1 = np.prod(diff1) * np.prod(diff2) * np.prod(diff3)\n",
    "\n",
    "if examine1 ==1:\n",
    "    print('the capacity constraints hold')\n",
    "else:\n",
    "    print('Error')"
   ]
  },
  {
   "cell_type": "code",
   "execution_count": 10,
   "metadata": {},
   "outputs": [
    {
     "name": "stdout",
     "output_type": "stream",
     "text": [
      "Error\n"
     ]
    }
   ],
   "source": [
    "#examine if ratio constraints hold\n",
    "examine2 = con_ratios(opti)\n",
    "\n",
    "if examine2 ==0:\n",
    "    print('the ratio constraints hold')\n",
    "else:\n",
    "    print('Error')"
   ]
  },
  {
   "cell_type": "code",
   "execution_count": 11,
   "metadata": {},
   "outputs": [
    {
     "name": "stdout",
     "output_type": "stream",
     "text": [
      "the linkage constraints hold\n"
     ]
    }
   ],
   "source": [
    "#examine if linkage constraints hold\n",
    "examine3 = con_linkage(opti)\n",
    "\n",
    "if examine3 ==0:\n",
    "    print('the linkage constraints hold')\n",
    "else:\n",
    "    print('Error')"
   ]
  },
  {
   "cell_type": "markdown",
   "metadata": {},
   "source": [
    "<font face=\"Arial\" size=5 color=#000000 > 8.Export result</font>"
   ]
  },
  {
   "cell_type": "code",
   "execution_count": 12,
   "metadata": {},
   "outputs": [],
   "source": [
    "# Bulid a workbook\n",
    "file = xlwt.Workbook(encoding='utf-8', style_compression=0) \n",
    "sheet = file.add_sheet('test', cell_overwrite_ok=True) \n",
    "\n",
    "header = ['result']\n",
    "data=opti\n",
    "\n",
    "# store data\n",
    "sheet.write(0,0,'Optimized notional')\n",
    "for i in range(N):\n",
    "    sheet.write(i+1,0,data[i])\n",
    "\n",
    "# save data into excel file named result\n",
    "file.save(r'e:\\result.xls')\n"
   ]
  },
  {
   "cell_type": "markdown",
   "metadata": {},
   "source": [
    "<font face=\"Arial\" size=5 color=#000000> 9. Constraint Relaxation</font>"
   ]
  },
  {
   "cell_type": "code",
   "execution_count": 13,
   "metadata": {},
   "outputs": [
    {
     "name": "stdout",
     "output_type": "stream",
     "text": [
      "the maximized sva is 195459.6206594144\n",
      "the calculation exits successfully: False\n",
      "the result message: Singular matrix C in LSQ subproblem\n",
      "the optimized notional is [1.64689235e+01 2.91668313e+00 2.80936071e+00 7.98955180e+00\n",
      " 1.06771249e+01 3.01381910e+00 3.78768224e+00 1.19451915e+00\n",
      " 1.31129513e+00 3.32664728e+01 3.88496677e+01 5.17279940e-01\n",
      " 2.41294583e-01 6.91156255e-01 3.59933364e-01 1.50496828e-01\n",
      " 6.95678633e-02 1.44414875e+01 6.18965418e+00 8.17150644e-02\n",
      " 3.01450062e-02 1.77031957e-01 7.95888684e-02 8.96022930e+00\n",
      " 3.34167792e+00 3.62446890e+00 3.79749543e+00 2.54764752e+01\n",
      " 7.98306312e+00 4.65531694e+00 1.46728269e+01 1.97344057e+01\n",
      " 3.43811080e+00 1.72886659e+00 1.91385946e+00 2.00690380e+01\n",
      " 1.67000580e+01 1.56994560e+01 0.00000000e+00 0.00000000e+00\n",
      " 1.21514306e-02 2.51776054e+00 7.13351389e-01 1.54767013e+01\n",
      " 4.93671972e+00 1.47077204e-01 2.69923104e+01 5.99949063e+00\n",
      " 1.06912036e+01 3.35780332e+00 2.13514366e+01 9.90113507e+00\n",
      " 6.25656691e+00 1.60809211e+01 1.45296772e+01 2.20031756e+00\n",
      " 1.21037261e+01 5.14190579e+00 2.20784178e+00 2.83810562e-01\n",
      " 2.21027598e+01 1.74508385e+01 1.38679434e+00 6.99848390e+00\n",
      " 4.61594663e+00 4.46324207e+00 4.92993471e+00 2.55096208e-02\n",
      " 5.56583302e+02 4.94975117e+02 9.78685473e+01 2.66811224e+01\n",
      " 1.99677173e+00 1.45590054e+01 6.63027944e+00 2.27115196e+01\n",
      " 9.69620749e+00 1.55278107e+01 2.29520783e+01 1.50327724e+01\n",
      " 6.48329601e+00 8.17142860e-01 7.57134161e+00 4.02989244e+01\n",
      " 1.56427132e+00 1.42750402e+01 3.35908100e+00 9.58600335e+01\n",
      " 1.53298895e+01 5.34610074e+00 1.81669489e+01 7.55344446e+00\n",
      " 2.47833698e+00 3.44853065e-01 5.16152449e+00 7.94843199e-01\n",
      " 0.00000000e+00 2.04759812e+00 1.32408423e+00 1.13213450e+01\n",
      " 3.55316564e+00 9.30823669e+00 1.85987124e+03 5.74273785e+02\n",
      " 3.61310090e+02 2.51494468e+02 0.00000000e+00 0.00000000e+00\n",
      " 0.00000000e+00 0.00000000e+00 0.00000000e+00 0.00000000e+00\n",
      " 0.00000000e+00 0.00000000e+00 0.00000000e+00 0.00000000e+00\n",
      " 0.00000000e+00 0.00000000e+00 3.71514339e+01 1.48240875e+01\n",
      " 1.92549699e+01 1.42960461e+01 1.59232120e+00 3.16128352e+00\n",
      " 3.07980366e+00 5.93941181e+00 1.60358156e+00 6.28493252e+00\n",
      " 9.49998338e-01 1.41405103e+01 1.87175940e+01 1.61676324e+00\n",
      " 1.33190035e+01 1.66115307e+01 4.40322528e+00 0.00000000e+00\n",
      " 1.77722060e+01 3.16126089e+00 1.48065363e+00 5.59268379e+00\n",
      " 2.17752511e+00 1.15877278e+00 1.85639931e-01 6.59830989e-01\n",
      " 4.25080559e+00 6.26478771e+00 2.63304932e+00 6.00689628e-02\n",
      " 6.08619331e+01 1.10865746e+00 1.16487979e+00 2.55554580e+01\n",
      " 1.82953895e+00 1.38497853e+00 4.80456357e-01 5.18623255e+00\n",
      " 4.72191421e-01 4.51076964e+01 1.26004053e+01 9.62979304e+00\n",
      " 1.34930280e-01 3.62213117e+01 5.86855375e+00 1.13256617e+01\n",
      " 1.41713662e-01 1.52282946e+01 2.86069289e+00 8.68724186e+00\n",
      " 4.96238842e+00 1.71326568e+01 1.16287409e+01 7.35853289e+01\n",
      " 1.72019210e+01 6.08782669e+00 6.18466560e+00 6.12465596e+00\n",
      " 3.20105395e+01 3.48169667e+01 2.05253671e+01 1.55658018e+00\n",
      " 9.86349945e+00 7.52556470e+00 3.31414057e+00 1.92116062e+00\n",
      " 8.28091851e+00 3.62134629e+00 1.99058640e+00 9.32626918e-01\n",
      " 1.75760700e+01 5.25173465e+01 6.60529640e+01 2.56797931e+01\n",
      " 2.43715014e+01 9.65494759e+00 3.53604288e+01 3.11918161e+01\n",
      " 5.39787288e+01 1.46379975e+01 5.04039003e+01 8.01496767e-02\n",
      " 3.81208964e+01 6.85727312e+01 4.58312725e+00 4.58231392e+01\n",
      " 3.17860252e+01 1.33351455e+02 8.33538844e+00 2.19886229e+01\n",
      " 7.01498881e-02 7.64281290e+00 2.41121005e+01 1.04882629e+01\n",
      " 1.03157613e+01 1.08039895e+02 1.05650830e+02 1.03422731e+02\n",
      " 8.31080570e+00 4.02378858e+01 2.52065596e+01 1.52722518e+01\n",
      " 1.24451617e+01 9.25021595e+00 2.38923277e+01 9.25919381e+00\n",
      " 7.69892814e+00 2.32160928e+01 4.74799342e+00 3.48211359e-02\n",
      " 5.17077506e+00 0.00000000e+00 8.39375359e+00 7.08696524e-01\n",
      " 7.39020533e+00 2.21303227e+01 3.30257152e-01 4.96419208e+00\n",
      " 2.40558843e+01 3.04633537e+00 0.00000000e+00 0.00000000e+00\n",
      " 0.00000000e+00 1.44698977e-01 1.13834498e+00 3.83968646e-01\n",
      " 2.33511054e+01 5.33678690e+01 1.90052293e+01 1.12816928e+02\n",
      " 3.24842528e+01 1.65583844e+01 2.52901904e+02 2.44293203e+01\n",
      " 1.89323687e+00 3.37149615e+02 1.16264346e+02 1.35853968e+02]\n"
     ]
    }
   ],
   "source": [
    "# No consideration of capacity\n",
    "result_new = minimize(objective,x0,method='SLSQP',bounds=None,constraints=cons)\n",
    "sva_new = result_new.fun*(-1)\n",
    "opti_new = result_new.x \n",
    "\n",
    "print('the maximized sva is {}'.format(sva_new))\n",
    "print('the calculation exits successfully: {}'.format(result_new.success))\n",
    "print('the result message: {}'.format(result_new.message))\n",
    "print('the optimized notional is {}'.format(opti_new))"
   ]
  }
 ],
 "metadata": {
  "kernelspec": {
   "display_name": "Python 3",
   "language": "python",
   "name": "python3"
  },
  "language_info": {
   "codemirror_mode": {
    "name": "ipython",
    "version": 3
   },
   "file_extension": ".py",
   "mimetype": "text/x-python",
   "name": "python",
   "nbconvert_exporter": "python",
   "pygments_lexer": "ipython3",
   "version": "3.7.1"
  }
 },
 "nbformat": 4,
 "nbformat_minor": 2
}
