{
 "cells": [
  {
   "cell_type": "markdown",
   "metadata": {},
   "source": [
    "# 1.基本语句"
   ]
  },
  {
   "cell_type": "code",
   "execution_count": null,
   "metadata": {},
   "outputs": [],
   "source": [
    "import numpy as np\n",
    "#help(np.array)\n",
    "#np.arange??"
   ]
  },
  {
   "cell_type": "code",
   "execution_count": 46,
   "metadata": {},
   "outputs": [
    {
     "data": {
      "text/plain": [
       "True"
      ]
     },
     "execution_count": 46,
     "metadata": {},
     "output_type": "execute_result"
    }
   ],
   "source": [
    "[1, 2, 3] is [1, 2, 3]  #1. Different places in memmory，is是一个很强的判断句\n",
    "[1, 2, 3] == [1, 2, 3]  #1. Same values in list，这里只判断值是否相等\n",
    "\n",
    "#这里要区别object and value。前者包括type和value。\n",
    "#此外，It is important to distinguish between operations that modify lists and operations that create new lists."
   ]
  },
  {
   "cell_type": "code",
   "execution_count": 22,
   "metadata": {},
   "outputs": [
    {
     "data": {
      "text/plain": [
       "\"Hi! I'm fine!\""
      ]
     },
     "execution_count": 22,
     "metadata": {},
     "output_type": "execute_result"
    }
   ],
   "source": [
    "'Hi!'+' '+\"I'm fine!\"#join strings 1\n",
    "\n",
    "\"\".join([\"Hi!\",\"I'm fine.\"])#join strings 2\n",
    "\n",
    "#join strings 3\n",
    "first=\"Hi!\"\n",
    "second=\"I'm fine!\"\n",
    "f\"{first} {second}\"\n",
    "f\"Hello! {second}\"\n",
    "\n",
    "\n",
    "#join strings 4\n",
    "first=\"Hi!\"\n",
    "second=\"I'm fine!\"\n",
    "\"{} {}\".format(first,second) # Argument count has to be >= {}"
   ]
  },
  {
   "cell_type": "code",
   "execution_count": 36,
   "metadata": {},
   "outputs": [
    {
     "data": {
      "text/plain": [
       "\"She's ok\""
      ]
     },
     "execution_count": 36,
     "metadata": {},
     "output_type": "execute_result"
    }
   ],
   "source": [
    "#replace\n",
    "#1\n",
    "\"I'm fine\".replace(\"fine\",'ok')\n",
    "#2\n",
    "\"She's %s\" %('ok')"
   ]
  },
  {
   "cell_type": "code",
   "execution_count": 37,
   "metadata": {},
   "outputs": [
    {
     "name": "stdout",
     "output_type": "stream",
     "text": [
      "Paul Lo\n"
     ]
    }
   ],
   "source": [
    "#slicing\n",
    "print(\"Hi! I'm Paul Logston\"[-12:-5])"
   ]
  },
  {
   "cell_type": "code",
   "execution_count": 2,
   "metadata": {},
   "outputs": [
    {
     "data": {
      "text/plain": [
       "[0, 1, 2, 3, 4]"
      ]
     },
     "execution_count": 2,
     "metadata": {},
     "output_type": "execute_result"
    }
   ],
   "source": [
    "list(range(5))"
   ]
  },
  {
   "cell_type": "markdown",
   "metadata": {},
   "source": [
    "# 2.进一步语句（数据结构，循环，变量名称）"
   ]
  },
  {
   "cell_type": "code",
   "execution_count": null,
   "metadata": {},
   "outputs": [],
   "source": [
    "#data structure:以下是list\n",
    "b = ['one', 2, []]\n",
    "b[2][:] = [1, 2, 3]\n",
    "d = [4, 5, 6] + [1, 2, 3] #是链接不是相加\n",
    "d.append(7)#链接一个数字\n",
    "d.extend([10, 8, 9])#链接一个列表\n",
    "d[2]#'str' object does not support item assignment 比如'123'[0] = 4是错的\n",
    "d.insert(0, -1)#插入\n",
    "sorted(d, reverse=True)#排序 此处d本身的顺序未变，若使用d.sort() 则d本身的顺序改变了"
   ]
  },
  {
   "cell_type": "code",
   "execution_count": 12,
   "metadata": {},
   "outputs": [
    {
     "data": {
      "text/plain": [
       "['a', 'b']"
      ]
     },
     "execution_count": 12,
     "metadata": {},
     "output_type": "execute_result"
    }
   ],
   "source": [
    "#data structure:以下是tuple元组\n",
    "a = (1, 2, 3,['a','b'])#使用圆括号定义\n",
    "a[3]#索引使用方括号\n",
    "#不可以改变值，例如a[1]=5是错的；不可以使用append"
   ]
  },
  {
   "cell_type": "code",
   "execution_count": 16,
   "metadata": {},
   "outputs": [
    {
     "data": {
      "text/plain": [
       "{'a', 'b'}"
      ]
     },
     "execution_count": 16,
     "metadata": {},
     "output_type": "execute_result"
    }
   ],
   "source": [
    "#data structure:以下是set:无序不重复\n",
    "a = {'a', 'a', 'b', 'b', 'c'}#大括号则自动去重；注意与dictionary区别\n",
    "s=set(['a','b','a'])#| 表示联合, & 表示交集 ,- 表示差集, ^ 差分集"
   ]
  },
  {
   "cell_type": "code",
   "execution_count": null,
   "metadata": {},
   "outputs": [],
   "source": [
    "#data structure:以下是dictionary\n",
    "#Dictionary存储了从一种对象（key）到另一种对象（value）的映射关系，key必须是不可变的对象（字符串、数字或者tuple），而value对象则是可变的任意数据类型。\n",
    "mydict = {'Wang' : 1, 'Hu' : 2, 'Liu' : 4}#冒号前面是key,后面是value\n",
    "type(mydict)\n",
    "\n",
    "#建立空的字典\n",
    "X=dict()\n",
    "X['wang']=1\n",
    "\n",
    "'wang' in X #true\n",
    "1 in X #false\n",
    "\n",
    "#与list的转换：\n",
    "val=list(X.values())\n",
    "keyss=list(X.keys())# 等价于 list(X)\n",
    "itemss=list(X.items())#list的每个元素是一个tuple\n",
    "\n",
    "#遍历操作\n",
    "for k,v in X.items():\n",
    "    print(k,v)\n",
    "\n"
   ]
  },
  {
   "cell_type": "code",
   "execution_count": null,
   "metadata": {},
   "outputs": [],
   "source": [
    "#循环\n",
    "#break是跳出一层循环，continue是结束一趟循环 ,return才是结束所有层循环!\n",
    "#如果有多层for循环,break会跳出当前这一层,去执行最外层循环(而不是退出所有层循环);\n",
    "#而continue则结束当前次循环(继续)而去执行下次循环,但本层循环没有结束.(注意一层循环和一次循环的区别:一层循环包含若干(i)次循环)\n",
    "\n",
    "# for has an else clause that gets executed if there are no breaks!\n",
    "#只有当for循环全部执行完了，才回执行else；若for循环存在break，则else也不会被执行\n",
    "for x in range(10):\n",
    "    break\n",
    "else:\n",
    "    print('No breaks!')\n",
    "\n",
    "    \n",
    "    \n",
    "for x in range(10):\n",
    "    continue\n",
    "else:\n",
    "    print('No breaks!')"
   ]
  },
  {
   "cell_type": "code",
   "execution_count": 52,
   "metadata": {},
   "outputs": [
    {
     "name": "stdout",
     "output_type": "stream",
     "text": [
      "Hello World!\n",
      "Hi! How are you today?\n",
      "\n",
      "Hello-World-1\n",
      "Hello World 1\n"
     ]
    },
    {
     "data": {
      "text/plain": [
       "('Hello', 'World', 1)"
      ]
     },
     "execution_count": 52,
     "metadata": {},
     "output_type": "execute_result"
    }
   ],
   "source": [
    "#string 进一步介绍\n",
    "'Hello World ' * 2 #结果是把string重复两次\n",
    "\n",
    "#multiple strings\n",
    "\"Hello World! \\\n",
    "How are you today?\"#输出'Hello World! How are you today?'\n",
    "\n",
    "#multiple strings\n",
    "\"\"\"\n",
    "Hello World!\n",
    "Hi! How are you today?\n",
    "\"\"\" #输出'Hello World!\\nHi! How are you today?\\n'\n",
    "#because Jupyter Notebook shows us the \"code\" for how this string should be printed, Not what the printed string looks like.\n",
    "print('Hello World!\\nHi! How are you today?\\n')\n",
    "\n",
    "\n",
    "print('Hello', 'World', 1, sep='-')\n",
    "print('Hello', 'World', 1)\n",
    "'Hello', 'World', 1"
   ]
  },
  {
   "cell_type": "code",
   "execution_count": null,
   "metadata": {},
   "outputs": [],
   "source": [
    "#一个处理string的有意思的函数：\n",
    "import string\n",
    "\n",
    "#首先建立一种映射关系\n",
    "intab = \"abcd\"  \n",
    "outtab = \"1234\"  \n",
    "str_trantab = str.maketrans(intab,outtab)  \n",
    "\n",
    "#然后操作映射并且删除string.punctuation\n",
    "string.translate(str_trantab, string.punctuation)\n",
    "\n",
    "#或者不建立映射关系，只为了删除\n",
    "string.translate(None, string.punctuation)\n",
    "\n",
    "#注意与strip区别，strip只用于删除两头"
   ]
  },
  {
   "cell_type": "code",
   "execution_count": 26,
   "metadata": {},
   "outputs": [
    {
     "data": {
      "text/plain": [
       "'If a string is right at the beginning of a function.\\n    It would also be considered a docstring.\\n    '"
      ]
     },
     "execution_count": 26,
     "metadata": {},
     "output_type": "execute_result"
    }
   ],
   "source": [
    "#Comments and docstrings\n",
    "#docstrings可以是module\\class\\function的attribute\n",
    "\n",
    "def func():\n",
    "    \"\"\"\n",
    "    If a string is right at the beginning of a function.\n",
    "    It would also be considered a docstring.\n",
    "    \"\"\"\n",
    "\n",
    "func.__doc__"
   ]
  },
  {
   "cell_type": "code",
   "execution_count": null,
   "metadata": {},
   "outputs": [],
   "source": [
    "#variable\n",
    "#大小写敏感；以字母或者下划线开头\n",
    "#只能放在左侧\n",
    "#注意conflict with a built in function or keyword.\n",
    "\n",
    "#命名注意事项：关于下划线！！\n",
    "\n",
    "#单个下划线开头是一个Python命名约定，表示这个名称是供内部使用的。 它通常不由Python解释器强制执行，仅仅作为一种对程序员的提示。\n",
    "#Two underscores开头 has even more of a special meaning... a private variable.之后OOP会讲，一般是表示，我程序员设置的，你不要动改它\n",
    "# varaibles with leading and trailing double underscores：they have special logic associated with them in the context of OOP.有一些特殊操作"
   ]
  },
  {
   "cell_type": "code",
   "execution_count": 27,
   "metadata": {},
   "outputs": [
    {
     "data": {
      "text/plain": [
       "83230664"
      ]
     },
     "execution_count": 27,
     "metadata": {},
     "output_type": "execute_result"
    }
   ],
   "source": [
    "#location:内存位置\n",
    "a=[]\n",
    "id(a)"
   ]
  },
  {
   "cell_type": "code",
   "execution_count": 30,
   "metadata": {},
   "outputs": [
    {
     "data": {
      "text/plain": [
       "[('x0', 'y0'),\n",
       " ('x1', 'y0'),\n",
       " ('x0', 'y1'),\n",
       " ('x1', 'y1'),\n",
       " ('x0', 'y2'),\n",
       " ('x1', 'y2')]"
      ]
     },
     "execution_count": 30,
     "metadata": {},
     "output_type": "execute_result"
    }
   ],
   "source": [
    "#list comprehension 列表解析式\n",
    "[i for i in range(10)]#用中括号表明是list\n",
    "[i ** 3 for i in range(10)]\n",
    "[x for x in range(10) if x % 2]\n",
    "[('x' + str(x), 'y' + str(y)) for y in range(3) for x in range(2)]#loops work from inside to outside也就是y不变，先变x"
   ]
  },
  {
   "cell_type": "markdown",
   "metadata": {},
   "source": [
    "# 3.函数（argument,捕捉错误）"
   ]
  },
  {
   "cell_type": "code",
   "execution_count": 55,
   "metadata": {},
   "outputs": [
    {
     "ename": "IndentationError",
     "evalue": "expected an indented block (<ipython-input-55-0d36cdbb77f3>, line 18)",
     "output_type": "error",
     "traceback": [
      "\u001b[1;36m  File \u001b[1;32m\"<ipython-input-55-0d36cdbb77f3>\"\u001b[1;36m, line \u001b[1;32m18\u001b[0m\n\u001b[1;33m    myfunc1(1, 2, 3, 4, 5)\u001b[0m\n\u001b[1;37m          ^\u001b[0m\n\u001b[1;31mIndentationError\u001b[0m\u001b[1;31m:\u001b[0m expected an indented block\n"
     ]
    }
   ],
   "source": [
    "#函数的全局与局部变量\n",
    "Num = 100  \n",
    "def func():  \n",
    "    global Num  #声明这个Num是全局的哦。如果全局变量已经有这个Num变量那就是指的它 如果全局没这个Num那就新定义一个全局变量。\n",
    "    Num  = 200  #此时此刻 凡是在函数内部Num的意思始终是指全局变量。不可能有个局部变量叫Num的。\n",
    "    print(Num )  \n",
    " \n",
    "func()  \n",
    "print(Num )\n",
    "\n",
    "gobal()\n",
    "local()\n",
    "\n",
    "\n",
    "\n",
    "#函数的argument的不同类型\n",
    "def myfunc1(arg1, arg2, *args):  # we are passing tuple for positional arguments\n",
    "myfunc1(1, 2, 3, 4, 5)\n",
    "\n",
    "def myfunc2(*args):  # can not use kwargs when only *args is defined\n",
    "    print(args)\n",
    "myfunc2(1,2, 3)#不能写成a=1,b=2,c=3\n",
    "    \n",
    "def myfunc3(**kwargs):  # we are passing a dict for keyword arguments\n",
    "myfunc3(a=1, b=2, c=3)#不能省略a=,b=\n",
    "\n",
    "\n",
    "\n",
    "\n",
    "# 一种特殊的没有函数名称的函数定义形式\n",
    "#Nameless (lambda) functions!\n",
    "\n",
    "#1.函数组\n",
    "funcs = [\n",
    "    lambda x: x ** 2, \n",
    "    lambda x: x ** 3,  \n",
    "]\n",
    "\n",
    "for func in funcs:\n",
    "    print(func(3))\n",
    "\n",
    "del func, funcs  # Delete funcs list from scope. Hardley ever used but if you really wanted to leave your scope unpolluted.\n",
    "\n",
    "#2.Can be defined with args, and kwargs\n",
    "(lambda y, x: (x * y) ** 2)(2, 2) \n",
    "\n",
    "#3.Can be defined with list\n",
    "list(map(lambda x: x + 5, [1, 2, 4, 5, 8]))\n",
    "\n",
    "\n",
    "\n",
    "#以下述为例看函数是如何recursion的 比如我们求factorial的函数\n",
    "def myfunction(x):\n",
    "    if x > 0:\n",
    "        print('x is', x, '- Going deeper')\n",
    "        myfunction(x - 1)\n",
    "        print('x was', x, '- Coming back up')\n",
    "    else:\n",
    "        print('x is', x, '- Turning around')\n",
    "\n",
    "myfunction(2)"
   ]
  },
  {
   "cell_type": "code",
   "execution_count": 45,
   "metadata": {},
   "outputs": [
    {
     "data": {
      "text/plain": [
       "[4, 9]"
      ]
     },
     "execution_count": 45,
     "metadata": {},
     "output_type": "execute_result"
    }
   ],
   "source": [
    "list(map(lambda x:x** 2,[2,3]))"
   ]
  },
  {
   "cell_type": "code",
   "execution_count": null,
   "metadata": {},
   "outputs": [],
   "source": [
    "##下面是几组特殊的用法\n",
    "\n",
    "\n",
    "#1、用于检测（捕捉）错误\n",
    "try:\n",
    "    int('two')\n",
    "except TypeError:\n",
    "    print('This is a type error')\n",
    "except ValueError:  # Multiple errors can be caught\n",
    "    print('This is a value error')\n",
    "except: \n",
    "    print('This is a catch all error logic branch')\n",
    "else:  # Can operate on the case where exception does not occur.\n",
    "    print('Nothing bad happened')\n",
    "finally:  # NO MATTER WHAT, DO THIS!\n",
    "    print('No matter what! Do this.')\n",
    "    \n",
    "    \n",
    "    \n",
    "#2、用于抛出错误raise\n",
    "raise NameError('Name {} not defined'.format('moose'))  # Another example of a common error customized.\n",
    "raise ValueError(1)\n",
    "\n",
    "def raise_havoc():\n",
    "    raise RuntimeError('HAVOC!')  # Can customize messages of specific errors.\n",
    "    raise Exception(\"抛出一个异常\")\n",
    "raise_havoc()\n",
    "\n"
   ]
  },
  {
   "cell_type": "markdown",
   "metadata": {},
   "source": [
    "# 4.visualization"
   ]
  },
  {
   "cell_type": "markdown",
   "metadata": {},
   "source": [
    "1.figure语法及操作\n",
    "(1)figure语法说明\n",
    "\n",
    "figure(num=None, figsize=None, dpi=None, facecolor=None, edgecolor=None, frameon=True)\n",
    "\n",
    "num:图像编号或名称，数字为编号 ，字符串为名称\n",
    "figsize:指定figure的宽和高，单位为英寸；\n",
    "dpi参数指定绘图对象的分辨率，即每英寸多少个像素，缺省值为80\n",
    "facecolor:背景颜色\n",
    "edgecolor:边框颜色\n",
    "frameon:是否显示边框\n",
    "\n",
    "\n",
    "2.subplot创建单个子图\n",
    "(1) subplot语法\n",
    "subplot(nrows, ncols, index, facecolor, polar, **kwargs)\n",
    "解释：\n",
    "nrows，ncols，index：如果这三个数都小于10,则可以连写，2,2,2 可以写为 222。\n",
    "facecolor：string型，如 ‘b'，’w' 等，设置子图的背景。\n",
    "polar：bool类型，默认为False，设置坐标是否为极坐标。\n",
    "\n",
    "\n",
    "3.subplots创建多个子图\n",
    "subplots 函数会返回一个figure 对象和一个 Axes 对象：\n",
    "subplots(nrows=1, ncols=1, sharex=False, sharey=False, squeeze=True,subplot_kw=None, gridspec_kw=None, **fig_kw):\n",
    "解释：\n",
    "nrows and ncols：行和列的个数。\n",
    "sharex and sharey：决定是否共享x轴或y轴。\n",
    "**fig_kw：figure 函数的参数都可以，如 figsize、facecolor等。\n",
    "\n",
    "\n",
    "4.面向对象API：add_subplots与add_axes新增子图或区域\n",
    "add_subplot与add_axes都是面对象figure编程的，pyplot api中没有此命令\n",
    "\n",
    "(1)add_subplot新增子图\n",
    "add_subplot的参数与subplots的相似\n",
    "(2)add_axes新增子区域\n",
    "add_axes为新增子区域，该区域可以座落在figure内任意位置，且该区域可任意设置大小（利用left, bottom, width, height设置区域位置和大小）\n",
    "add_axes参数可参考官方文档:http://matplotlib.org/api/_as_gen/matplotlib.figure.Figure.html#matplotlib.figure.Figure\n"
   ]
  },
  {
   "cell_type": "code",
   "execution_count": 118,
   "metadata": {},
   "outputs": [
    {
     "data": {
      "text/plain": [
       "[<matplotlib.lines.Line2D at 0x9da3c50>]"
      ]
     },
     "execution_count": 118,
     "metadata": {},
     "output_type": "execute_result"
    },
    {
     "data": {
      "image/png": "[encoded data removed]",
      "text/plain": [
       "<Figure size 288x216 with 1 Axes>"
      ]
     },
     "metadata": {},
     "output_type": "display_data"
    }
   ],
   "source": [
    "#例子1\n",
    "import matplotlib.pyplot as plt\n",
    "fig=plt.figure(figsize=(4,3),facecolor='grey')#就是多了这一行命令，修改plt.figure的属性\n",
    "x = np.linspace(0, 10, 100)\n",
    "plt.plot(x, np.sin(x))\n"
   ]
  },
  {
   "cell_type": "code",
   "execution_count": 102,
   "metadata": {},
   "outputs": [
    {
     "data": {
      "text/plain": [
       "[<matplotlib.lines.Line2D at 0x883fc88>]"
      ]
     },
     "execution_count": 102,
     "metadata": {},
     "output_type": "execute_result"
    },
    {
     "data": {
      "image/png": "[encoded data removed]",
      "text/plain": [
       "<Figure size 432x288 with 2 Axes>"
      ]
     },
     "metadata": {
      "needs_background": "light"
     },
     "output_type": "display_data"
    }
   ],
   "source": [
    "#例子2\n",
    "import numpy as np\n",
    "import matplotlib.pyplot as plt\n",
    "x = np.arange(100)\n",
    "#作图1\n",
    "plt.subplot(221)\n",
    "plt.plot(x, x)\n",
    "#作图2\n",
    "plt.subplot(222)\n",
    "plt.plot(x, -x)"
   ]
  },
  {
   "cell_type": "code",
   "execution_count": 96,
   "metadata": {},
   "outputs": [
    {
     "name": "stderr",
     "output_type": "stream",
     "text": [
      "C:\\Users\\junyuzhou\\Anaconda3\\lib\\site-packages\\ipykernel_launcher.py:21: RuntimeWarning: divide by zero encountered in log\n"
     ]
    },
    {
     "data": {
      "image/png": "[encoded data removed]",
      "text/plain": [
       "<Figure size 432x288 with 4 Axes>"
      ]
     },
     "metadata": {
      "needs_background": "light"
     },
     "output_type": "display_data"
    }
   ],
   "source": [
    "#例子3\n",
    "import numpy as np  \n",
    "import matplotlib.pyplot as plt\n",
    "\n",
    "x = np.arange(100)\n",
    "#划分子图\n",
    "fig,axes=plt.subplots(2,2)\n",
    "ax1=axes[0,0]\n",
    "ax2=axes[0,1]\n",
    "ax3=axes[1,0]\n",
    "ax4=axes[1,1]\n",
    "\n",
    "#作图1\n",
    "ax1.plot(x, x)\n",
    "#作图2\n",
    "ax2.plot(x, -x)\n",
    "#作图3\n",
    "ax3.plot(x, x ** 2)\n",
    "ax3.grid(color='r', linestyle='--', linewidth=1,alpha=0.3)\n",
    "#作图4\n",
    "ax4.plot(x, np.log(x))\n",
    "plt.show()\n"
   ]
  },
  {
   "cell_type": "code",
   "execution_count": 103,
   "metadata": {},
   "outputs": [
    {
     "name": "stderr",
     "output_type": "stream",
     "text": [
      "C:\\Users\\junyuzhou\\Anaconda3\\lib\\site-packages\\ipykernel_launcher.py:19: RuntimeWarning: divide by zero encountered in log\n"
     ]
    },
    {
     "data": {
      "image/png": "[encoded data removed]",
      "text/plain": [
       "<Figure size 432x288 with 3 Axes>"
      ]
     },
     "metadata": {
      "needs_background": "light"
     },
     "output_type": "display_data"
    },
    {
     "data": {
      "image/png": "[encoded data removed]",
      "text/plain": [
       "<Figure size 432x288 with 2 Axes>"
      ]
     },
     "metadata": {
      "needs_background": "light"
     },
     "output_type": "display_data"
    }
   ],
   "source": [
    "#例子4\n",
    "import numpy as np\n",
    "import matplotlib.pyplot as plt\n",
    "\n",
    "\n",
    "#（1）add_subplot新增子图\n",
    "x = np.arange(0, 100)\n",
    "#新建figure对象\n",
    "fig=plt.figure()\n",
    "#新建子图1\n",
    "ax1=fig.add_subplot(2,2,1)\n",
    "ax1.plot(x, x)\n",
    "#新建子图3\n",
    "ax3=fig.add_subplot(2,2,3)\n",
    "ax3.plot(x, x ** 2)\n",
    "ax3.grid(color='r', linestyle='--', linewidth=1,alpha=0.3)\n",
    "#新建子图4\n",
    "ax4=fig.add_subplot(2,2,4)\n",
    "ax4.plot(x, np.log(x))\n",
    "plt.show()\n",
    "\n",
    "\n",
    "\n",
    "#（2）add_axes新增子区域\n",
    "#新建figure\n",
    "fig = plt.figure()\n",
    "# 定义数据\n",
    "x = [1, 2, 3, 4, 5, 6, 7]\n",
    "y = [1, 3, 4, 2, 5, 8, 6]\n",
    "#新建区域ax1\n",
    "#figure的百分比,从figure 10%的位置开始绘制, 宽高是figure的80%\n",
    "left, bottom, width, height = 0.1, 0.1, 0.8, 0.8\n",
    "# 获得绘制的句柄\n",
    "ax1 = fig.add_axes([left, bottom, width, height])\n",
    "ax1.plot(x, y, 'r')\n",
    "ax1.set_title('area1')\n",
    "\n",
    "#新增区域ax2,嵌套在ax1内\n",
    "left, bottom, width, height = 0.2, 0.6, 0.25, 0.25\n",
    "# 获得绘制的句柄\n",
    "ax2 = fig.add_axes([left, bottom, width, height])\n",
    "ax2.plot(x,y, 'b')\n",
    "ax2.set_title('area2')\n",
    "plt.show()"
   ]
  },
  {
   "cell_type": "code",
   "execution_count": 117,
   "metadata": {},
   "outputs": [],
   "source": [
    "#画图的其他语言汇总\n",
    "plt.gcf()#get current figure\n",
    "plt.gca()#get current axis\n",
    "\n",
    "%matplotlib inline\n",
    "#其作用就是在你调用plot()进行画图或者直接输入Figure的实例对象的时候，会自动的显示并把figure嵌入到console中\n",
    "#如果不加上%maplotlib inline 的话，每次figure的显示都需要plt.show();\n",
    "#缺点：当你调用fig1 = plt.figure(1); 如果再次调用plt.figure(1)的时候会产生新的Figure实例对象，且每次plt.gca()或者plt.gcf()都会产生不同的对象。\n",
    "#解决上述缺点，继续获取相同的对象：（1）不使用%m..（2）必须在一个cell里面，如下，把相关的语句都写在In[1]里\n",
    "\n",
    "fig.savefig('sin.png')  # To save figure. Open jupyter root to find file红色的部分是图片名称与格式\n",
    "\n",
    "\n",
    "#美化格式\n",
    "print(plt.style.available)#获取可使用的格式类型\n",
    "plt.style.use('bmh')#红字是上述可以获取的格式\n",
    "plt.style.context(('bmh'))有时候，我们不希望改变全局的风格，只是想暂时改变一下分隔，则可以使用 context 将风格改变限制在某一个代码块内\n",
    "plt.rcParams['font.sans-serif']=['Microsoft YaHei']#正常显示中文字体\n",
    "\n",
    "\n",
    "#关于figure&axis\n",
    "#前者包括的元素有\n",
    "#- axes\n",
    "#- graphics\n",
    "#- text\n",
    "#- labels\n",
    "#The axes is what wee see above (the xy graph)可以直接plot directly to axes：\n",
    "ax.plot(x, np.cos(x))  \n",
    "\n",
    "\n",
    "#改变参数\n",
    "plt.xlim(-1, 11)\n",
    "plt.ylim(-1.5, 1.5)\n",
    "plt.title('My Sin Curve')\n",
    "plt.xlabel('')\n",
    "\n",
    "plt.plot(x, np.cos(x), color='blue', linestyle='solid', label='cos')\n",
    "plt.plot(x, np.sin(x), color='coral', linestyle='dashed', label='sin')\n",
    "plt.legend()#图例"
   ]
  },
  {
   "cell_type": "code",
   "execution_count": 121,
   "metadata": {},
   "outputs": [],
   "source": [
    "#回归\n",
    "np.random.seed(3)\n",
    "x = np.linspace(0, 100)\n",
    "y = (x ** 2) + (2500 * np.random.rand(len(x)))\n",
    "\n",
    "coeffs = np.polyfit(x, y, 2)\n",
    "yfit = np.poly1d(coeffs)(x)\n",
    "\n",
    "plt.plot(x, y, 'o')\n",
    "plt.plot(x, yfit)"
   ]
  },
  {
   "cell_type": "markdown",
   "metadata": {},
   "source": [
    "# 5.生成器generator"
   ]
  },
  {
   "cell_type": "markdown",
   "metadata": {},
   "source": [
    "1.定义第一种：类似列表生成器\n",
    "边循环一边计算的机制；不保存前面的数，节省空间\n",
    "\n",
    ">>> L = [x * x for x in range(10)]\n",
    ">>> L\n",
    "[0, 1, 4, 9, 16, 25, 36, 49, 64, 81]\n",
    ">>> g = (x * x for x in range(10))\n",
    ">>> g\n",
    "\n",
    "相互转换关系：\n",
    "g到l: l=list(x**2 for x in range(10))\n",
    "l到g: g=iter(某个list)\n",
    "\n",
    "2.调用方法1：\n",
    "得到每一个数字的两种方法：next或者循环\n",
    ">>> next(g)\n",
    "每次调用next(g)，就计算出g的下一个元素的值，直到计算到最后一个元素，没有更多的元素时，抛出StopIteration的错误。\n",
    "\n",
    "\n",
    "g = (x * x for x in range(10))\n",
    ">>> for n in g:\n",
    "...     print(n)\n",
    "循环会输出每一步的结果\n",
    "\n",
    "3.第二种定义：类似函数\n",
    "如果一个函数定义中包含yield关键字，那么这个函数就不再是一个普通函数，而是一个generator\n",
    "在每次调用next()的时候执行，遇到yield语句则执行完yield再返回，再次执行时从上次返回的yield语句处继续执行。\n",
    "def odd():\n",
    "    print('step 1')\n",
    "    yield 1\n",
    "    print('step 2')\n",
    "    yield(3)\n",
    "    print('step 3')\n",
    "    yield(5)\n",
    "    \n",
    "4.调用方法2：\n",
    "调用上述函数：首先要生成一个generator对象，>>> o = odd()\n",
    "然后同上，用next()函数不断获得下一个返回值；或者循环得到最后一个值\n",
    "\n",
    "\n",
    "5.注意事项：\n",
    "\n",
    "请注意区分普通函数和generator函数，普通函数调用直接返回结果：\n",
    "generator函数的“调用”实际返回一个generator对象：\n",
    "\n",
    "但是用for循环调用generator函数时，发现拿不到generator的return语句的返回值。如果想要拿到返回值，必须捕获StopIteration错误，返回值包含在StopIteration的value中：\n",
    ">>> g = fib(6)\n",
    ">>> while True:\n",
    "...     try:\n",
    "...         x = next(g)\n",
    "...         print('g:', x)\n",
    "...     except StopIteration as e:\n",
    "...         print('Generator return value:', e.value)\n",
    "...         break\n",
    "\n",
    "6.yield & yield from\n",
    "def gen(x):\n",
    "    other_gen = range(x)\n",
    "    for i in other_gen:\n",
    "        yield i\n",
    "\n",
    "def gen(x):\n",
    "    yield from range(x)  # yield from allows us to pull from another iterable\n",
    "    \n",
    "    \n",
    " 7.给generator赋值：\n",
    " \n",
    " def reciever():\n",
    "    val = yield  # hmmm..., this looks fishy\n",
    "    print(val)\n",
    "    \n",
    "recv = reciever()\n",
    "next(recv)  # move interal cursor to yield statement\n",
    "\n",
    "try:\n",
    "    recv.send('hi!')  # Oh! We can send values into a generator!\n",
    "except StopIteration:\n",
    "    pass"
   ]
  },
  {
   "cell_type": "markdown",
   "metadata": {},
   "source": [
    "# 6.面向对象编程OOP"
   ]
  },
  {
   "cell_type": "markdown",
   "metadata": {},
   "source": [
    "## 6.1基本介绍\n",
    "1.定义：一个对象就是一个类class，里面包括了不同的操作（用函数进行定义），list,tuple等都是一个类\n",
    "在下面例子中，首先用__inti__来进行初始化属性绑定，然后可以随便定义无数种函数（称为method），即 attribute\n",
    "\n",
    "bart是一个实例instance，Student是一个类class\n",
    "\n",
    "class Student(object):#括号里面是继承类，如果没有合适的继承类，就使用object类，这是所有类最终都会继承的类。\n",
    "\n",
    "    def __init__(self, name, score):\n",
    "        self.name = name\n",
    "        self.score = score\n",
    "\n",
    "    def print_score(self):\n",
    "        print('%s: %s' % (self.name, self.score))\n",
    "bart = Student('Bart Simpson', 59)\n",
    "lisa = Student('Lisa Simpson', 87)\n",
    "bart.print_score()\n",
    "lisa.print_score()\n",
    "\n",
    "2.关于attributes：\n",
    "1）可以自由地给一个实例变量绑定属性，哪怕这个属性没有在上面class中出现\n",
    "2）由于类可以起到模板的作用，因此，可以在创建类的时候，把一些我们认为必须绑定的属性强制填写进去。通过定义一个特殊的__init__\n",
    "3）注意函数传入的参数都是以self开头，但是定义instance（调用）时，不用传递该参数\n",
    "\n",
    "3.关于property 暂时忽略"
   ]
  },
  {
   "cell_type": "markdown",
   "metadata": {},
   "source": [
    "# 6.2 三大属性\n",
    "1.封装定义\n",
    "要访问这些数据，就没有必要从外面的函数去访问，可以直接在Student类的内部定义访问数据的函数，这样，就把“数据”给封装起来了。\n",
    "比如上面例子的def print_score就是一种封装，就不需要再从外部进行访问了。可以直接在实例变量上调用，不需要知道内部实现细节\n",
    "bart.print_score()\n",
    "\n",
    "1.1封装的访问限制\n",
    "外部代码还是可以自由地修改一个实例的name、score属性\n",
    "比如bart.score = 99\n",
    "\n",
    "如果要让内部属性不被外部访问，可以把属性的名称前加上两个下划线__，在Python中，实例的变量名如果以__开头，就变成了一个私有变量（private），只有内部可以访问，外部不能访问\n",
    "\n",
    "lass Student(object):\n",
    "\n",
    "    def __init__(self, name, score):\n",
    "        self.__name = name\n",
    "        self.__score = score\n",
    "\n",
    "    def print_score(self):\n",
    "        print('%s: %s' % (self.__name, self.__score))\n",
    "1.2 对于上述代码，若又想要访问或者修改，则在定义class的时候多加一个attribute即可。\n",
    "\n",
    "    def get_name(self):\n",
    "        return self.__name\n",
    "\n",
    "    def get_score(self):\n",
    "        return self.__score\n",
    "        \n",
    "    def revise_score(self, score):\n",
    "        self.__score = score    \n",
    "        \n",
    "2.继承\n",
    "1）定义\n",
    "class Animal(object):\n",
    "    def run(self):\n",
    "        print('Animal is running...')\n",
    "class Dog(Animal):#修改括号里面object就行\n",
    "    pass        \n",
    "\n",
    "2）特点：\n",
    "子类继承父类的所有属性\n",
    "如果子类中定义了相同变量名的属性，则新的会覆盖旧的；子类也可以增加其他新的属性\n",
    "若既要定义相同变量名的属性，有要保留旧的，则使用super().attribute()：\n",
    "        super().say_hi() # Call parent's say_hi within child's say_hi!\n",
    "\n",
    "\n",
    "3.多态\n",
    "1）定义：\n",
    "当我们定义一个class的时候，我们实际上就定义了一种数据类型。我们定义的数据类型和Python自带的数据类型，比如str、list、dict没什么两样\n",
    "判断一个变量是否是某个类型可以用isinstance()判断：\n",
    "\n",
    "isinstance(b, Animal)\n",
    "True\n",
    "\n",
    "子类也是父类（true）但父类不是子类（false）\n",
    "2）优点：\n",
    "任何依赖Animal作为参数的函数或者方法都可以不加修改地正常运行，原因就在于多态。\n",
    "比如某个函数需要传入animal，由于dog,cat都是其子类，则会会按照子类的已经覆盖的新的attribute进行操作。\n",
    "\n",
    "4.动态语言&静态语言\n",
    "对于静态语言（例如Java）来说，如果需要传入Animal类型，则传入的对象必须是Animal类型或者它的子类，否则，将无法调用run()方法。\n",
    "对于Python这样的动态语言来说，则不一定需要传入Animal类型。我们只需要保证传入的对象有一个run()方法就可以了：\n",
    "\n",
    "class Timer(object):\n",
    "    def run(self):\n",
    "        print('Start...')#只要有run()就行，不在乎run这个函数的操作过程或结果是否相同\n",
    "        \n",
    "5.区别 instance & class的属性：\n",
    "前者会覆盖后者\n",
    "在编写程序的时候，千万不要对实例属性和类属性使用相同的名字，因为相同名称的实例属性将屏蔽掉类属性，但是当你删除实例属性后，再使用相同的名称，访问到的将是类属性。"
   ]
  },
  {
   "cell_type": "markdown",
   "metadata": {},
   "source": [
    "# 6.3变量命名\n",
    "1.以双下划线开头，并且以双下划线结尾的，是特殊变量，特殊变量是可以直接访问的，不是private变量，所以，不能用__name__、__score__这样的变量名\n",
    "1)类似__xxx__的属性和方法在Python中都是有特殊用途的，比如__len__方法返回长度。\n",
    "2)剩下的都是普通属性或方法，比如lower()返回小写的字符串：\n",
    "\n",
    "2.以一个下划线开头的实例变量名，比如_name，这样的实例变量外部是可以访问的，但是，按照约定俗成的规定，当你看到这样的变量时，意思就是，“虽然我可以被访问，但是，请把我视为私有变量，不要随意访问”。\n",
    "3.以两个下划线开头：即上述书写的方式\n",
    "不能直接访问__name是因为Python解释器对外把__name变量改成了_Student__name，所以，仍然可以通过_Student__name来访问__name变量"
   ]
  },
  {
   "cell_type": "markdown",
   "metadata": {},
   "source": [
    "## 6.4获取变量名性质\n",
    "1.type()用于普通任何对象 list、dic等\n",
    ">>> type(abs)\n",
    "\n",
    "2.用于函数\n",
    ">>>import types\n",
    ">>> type(abs)==types.BuiltinFunctionType \n",
    "\n",
    "3.用于class类：此处只要是子类，都属于父类，反之不成立\n",
    ">>>isinstance(d, Dog)\n",
    ">>>isinstance([1, 2, 3], (list, tuple))#判断是否是其中之一\n",
    "\n",
    "能用type()判断的基本类型也可以用isinstance()判断\n",
    "\n",
    "4.获取所有属性\n",
    ">>> dir('ABC')\n",
    "\n",
    "调用上述属性：\n",
    ">>> len('ABC')\n",
    "3\n",
    ">>> 'ABC'.__len__()\n",
    "3\n",
    "\n",
    "5.1判断是否包括某种属性\n",
    ">>> hasattr(obj, 'x') # 有属性'x'吗？\n",
    "True\n",
    ">>> obj.x\n",
    "9\n",
    ">>> hasattr(obj, 'y') # 有属性'y'吗？\n",
    "False\n",
    "\n",
    "5.2设置新的属性：\n",
    ">>> setattr(obj, 'y', 19) # 设置一个属性'y'\n",
    ">>> hasattr(obj, 'y') # 有属性'y'吗？\n",
    "True\n",
    "\n",
    "5.3获取属性：\n",
    ">>> getattr(obj, 'z', 404) # 获取属性'z'，如果不存在，返回默认值404\n",
    "404\n",
    "\n",
    "以下两个等价，直接写第二种，只有在不知道对象信息的时候，我们才会去获取对象信息\n",
    ">>> getattr(obj, 'y') # 获取属性'y'\n",
    ">>> obj.y # 获取属性'y'\n",
    "\n",
    "注意：若fn = getattr(obj, 'power')，则调用fn()与调用obj.power()是一样的"
   ]
  },
  {
   "cell_type": "markdown",
   "metadata": {},
   "source": [
    "# 7.打开读取文件 "
   ]
  },
  {
   "cell_type": "markdown",
   "metadata": {},
   "source": [
    "## 7.1 CSV\n",
    "1.方法一：生成一个list\n",
    "with open('example-data/CocaCola.csv') as fp:\n",
    "    data = fp.readlines()\n",
    "    \n",
    "2.方法二：生成一个list,其每个元素是（每一行的list)\n",
    "import csv\n",
    "\n",
    "with open('example-data/CocaCola.csv') as fp:\n",
    "    reader = csv.reader(fp)\n",
    "    data = list(reader)\n",
    "\n",
    "\n",
    "以下都是基于第三种方法：\n",
    "3.1生成一个list，里面每个元素是（每一行的dictionary）\n",
    "with open('example-data/CocaCola.csv') as fp:\n",
    "    reader = csv.DictReader(fp)\n",
    "    data = list(reader)\n",
    "\n",
    "3.2获取数据\n",
    "first_row = data[0]#获得第一行的数据\n",
    "print(first_row['Year'])#year asset是标题名称，是dictionary的key\n",
    "print(first_row['Assets'])    \n",
    "    \n",
    "3.3修改格式\n",
    "import collections\n",
    "def parse_row(row):\n",
    "    new_row = collections.OrderedDict()\n",
    "    new_row['Year'] = int(row['Year'])\n",
    "    new_row['NOI'] = int(row['NOI'].replace(',', '')) if row['NOI'] else None\n",
    "    new_row['Assets'] = int(row['Assets'].replace(',', '')) if row['Assets'] else None\n",
    "    new_row['Cash'] = int(row['Cash'].replace(',', '')) if row['Cash'] else None\n",
    "    new_row['Share Price'] = float(row['Share Price'].replace(',', '')) if row['Share Price'] else None\n",
    "    return new_row\n",
    "\n",
    "for row in data:\n",
    "    print(parse_row(row))\n",
    "    \n",
    "4.从csv转为txt分隔符形式\n",
    "with open('CocaCola-out.txt', 'w') as fp:\n",
    "    writer = csv.writer(fp)\n",
    "    writer.writerow(parse_row(row).keys())  # writer header row\n",
    "    writer.writerows([parse_row(row).values() for row in data])  # write rows of data"
   ]
  },
  {
   "cell_type": "markdown",
   "metadata": {},
   "source": [
    "## 7.2 json\n",
    "import json\n",
    "\n",
    "with open('example-data/superheros.json') as fp:\n",
    "    data = json.load(fp)\n",
    "    \n",
    "上述是dic类型，可以删除一组key和value\n",
    "del data['key1']"
   ]
  },
  {
   "cell_type": "markdown",
   "metadata": {},
   "source": [
    "# 8.Pandas 补充"
   ]
  },
  {
   "cell_type": "markdown",
   "metadata": {},
   "source": [
    "## 8.1文字介绍\n",
    "1.三种数据结构\n",
    "•\tSeries\n",
    "•\tDataFrame\n",
    "•\tIndex\n"
   ]
  },
  {
   "cell_type": "markdown",
   "metadata": {},
   "source": [
    "## 8.2 定义"
   ]
  },
  {
   "cell_type": "code",
   "execution_count": null,
   "metadata": {},
   "outputs": [],
   "source": [
    "#1.定义series\n",
    "# Series is a structure that maps keys to typed values\n",
    "data = {\n",
    "    'Balloons': 50,\n",
    "    'Cake': 1,\n",
    "    'Attendees': 20,\n",
    "    'Clowns': 0,\n",
    "    'Stressed Out Parents': 2,\n",
    "}\n",
    "series = pd.Series(data)\n",
    "\n",
    "#slice：dic的key就是index\n",
    "series['Attendees']  # dict like indexing\n",
    "series['Attendees':'Clowns']\n",
    "series.index #得到key的列表\n",
    "\n",
    "\n",
    "#2.定义index\n",
    "index = pd.Index(['Attendees', 'Balloons', 'Cake', 'Clowns', 'Stressed Out Parents'])\n",
    "\n",
    "#3.定义dataframe，类比excel的样式,包括三个参数data,columns index\n",
    "#没有index则默认为0、1、2、3\n",
    "#用dictionary的方式则自动默认了columns的名称\n",
    "\n",
    "#例一\n",
    "result =pd.DataFrame(columns=('idx','degree','weight','diameter'))\n",
    "#将计算结果逐行插入result,注意变量要用[]括起来,同时ignore_index=True，否则会报错，ValueError: If using all scalar values, you must pass an index\n",
    "for i in idx:\n",
    "    degree=\n",
    "    weight=\n",
    "    diameter=\n",
    "    result=result.append(pd.DataFrame({'idx':[i],'degree':[degree],'weight':[weight],'diameter':[diameter]}),ignore_index=True)\n",
    "\n",
    "    \n",
    "#例二\n",
    "data = {\n",
    "    '2015': [30, 40, 1, 1, 2],\n",
    "    '2016': [20, 50, 1, 0, 2],\n",
    "    '2017': [30, 50, 1, 0, 2],\n",
    "}\n",
    "df = pd.DataFrame(\n",
    "    data,\n",
    "    index=index#index需要被定义，此处是上面已经定义的，\n",
    ")\n",
    "\n",
    "#注意index看作是tuple\n",
    "# It can't change, but it can do super fast lookups and set operations.\n",
    "df.index[0] = 1  # can't change\n",
    "\n",
    "df.index#得到index的list（行标）\n",
    "df.columns#得到list（列标）\n",
    "\n"
   ]
  },
  {
   "cell_type": "code",
   "execution_count": null,
   "metadata": {},
   "outputs": [],
   "source": [
    "#1\n",
    "index = pd.Index(['Attendees', 'Balloons', 'Cake', 'Clowns', 'Stressed Out Parents'])\n",
    "data = {\n",
    "    '2015': [30, 40, 1, 1, 2],\n",
    "    '2016': [20, 50, 1, 0, 2],\n",
    "    '2017': [30, 50, 1, 0, 2],\n",
    "}\n",
    "df = pd.DataFrame(\n",
    "    data,\n",
    "    index=index#index需要被定义，此处是上面已经定义的，\n",
    ")\n",
    "\n",
    "\n",
    "#2\n",
    "data=np.random.randn(6,4)#创建一个6行4列的数组\n",
    "df=pd.DataFrame(\n",
    "    data,\n",
    "    columns=list('ABCD'),\n",
    "    index=[1,2,'a','b','2006-10-1','第六行']\n",
    ")\n",
    "\n",
    "#3空表，有列名称\n",
    "pd.DataFrame(\n",
    "    columns=('id','name','grade','class')\n",
    ")"
   ]
  },
  {
   "cell_type": "markdown",
   "metadata": {},
   "source": [
    "## 8.3数据处理"
   ]
  },
  {
   "cell_type": "code",
   "execution_count": null,
   "metadata": {},
   "outputs": [],
   "source": [
    "#4.slice截取部分数据\n",
    "df['2015']  # Get a column by indexing like usual“2015”是列名称\n",
    "df.loc['Attendees']  # Get a row by name using the .loc method （“”是行名称）\n",
    "df.iloc[0]  # Get a row by integer index using the .iloc method ([]里面是位置，第几个)\n",
    "\n",
    "# More values passed to method are used to \n",
    "# index into deeper dimensions. \n",
    "df.loc['Attendees', '2015']#X行X列，定位某个具体元素\n",
    "\n",
    "df['Attendees':'Cake']  # Slice effects rows得几行\n",
    "\n",
    "# 5.比较符号与布尔式子Comparison of column with integer will return boolean series\n",
    "df['2015'] > 30 #生成布尔\n",
    "df[df['2015'] > 30]  # 选取了为真的行Series can be used to filter rows!\n",
    "\n",
    "\n",
    "\n",
    "#6.从data frame变为series：拥有行列两级的index\n",
    "# Convert DataFrame to a Series with a hierarchical index.\n",
    "multi_df = df.stack()\n",
    "multi_df['Attendees', '2015']  # Index using multiple items，得到具体元素，不需要loc也可以\n",
    "multi_df.loc['Attendees', '2015':'2018']  # And some slicing\n",
    "# Get avg for each category\n",
    "multi_df.mean(level=0)  # Level specifies dimension这是第一级index下的均值，相当于之前的每行均值\n",
    "\n",
    "\n",
    "flat_df = multi_df.reset_index()  # Break down index into columns两级index都变成了一列，此时的index变成了默认的从零开始的数字\n",
    "flat_df.set_index(['level_0', 'level_1'])  # Rebuild hierarchical index#直接变成两级index\n",
    "\n",
    "\n"
   ]
  },
  {
   "cell_type": "markdown",
   "metadata": {},
   "source": [
    "## 8.4 两个dataframe互动"
   ]
  },
  {
   "cell_type": "code",
   "execution_count": null,
   "metadata": {},
   "outputs": [],
   "source": [
    "#7.两个dataframe的互动\n",
    "#7.1初始定义\n",
    "import numpy as np\n",
    "rng = np.random.RandomState(42)\n",
    "\n",
    "df = pd.DataFrame(\n",
    "    rng.randint(0, 10, (3, 4)),\n",
    "    columns=['A', 'B', 'C', 'D'],\n",
    ")\n",
    "\n",
    "df2 = pd.DataFrame(\n",
    "    rng.randint(0, 10, (3, 4)),\n",
    "    columns=['B', 'C', 'D', 'E'],\n",
    ")\n",
    "\n",
    "#7.2运算\n",
    "\n",
    "df + df2\n",
    "# pandas will attempt to align indicies when performing most \n",
    "# arithmetic operations. Undefined operations will produce NaN.\n",
    "\n",
    "np.nan + 1  # FYI: NaN + anything == NaN\n",
    "\n",
    "(df + df2).dropna(axis=1)  # Drop any column with NaN\n",
    "\n",
    "(df + df2).fillna(0)#用括号正的数字代替NaN\n",
    "\n",
    "#7.3连接\n",
    "# Just sticking them together?\n",
    "pd.concat([df, df2])\n",
    "df.append(df2)  # Same as pd.concat but 6 characters shorter\n",
    "\n",
    "#7.4合并\n",
    "df1 = pd.DataFrame({\n",
    "    'name': ['Kanye West', 'Anderson Cooper', 'Ada Lovelace', 'Megan Smith'],\n",
    "    'alias': ['Yeezus', 'Coop Dedupe', 'The Ace', 'US CTO'],\n",
    "})\n",
    "\n",
    "df2 = pd.DataFrame({\n",
    "    'name': ['Kanye West', 'Anderson Cooper', 'Ada Lovelace', 'Megan Smith'],\n",
    "    'birth_year': [1977, 1967, 1815, 1964],\n",
    "    'skill': ['Rhymes', 'Looking Concentrated', 'Computer Science', 'Computer Science']\n",
    "})\n",
    "\n",
    "df3 = pd.merge(df1, df2)#只有name这个index相同，依据它进行匹配合并\n",
    "# Automatically spreads best_industry_for_skill over new DataFrame!\n",
    "\n"
   ]
  },
  {
   "cell_type": "markdown",
   "metadata": {},
   "source": [
    "## 8.5对dataframe的统计分析&函数操作"
   ]
  },
  {
   "cell_type": "code",
   "execution_count": null,
   "metadata": {},
   "outputs": [],
   "source": [
    "#8.对dataframe的数据处理——一个例子\n",
    "#8.1定义\n",
    "df = pd.DataFrame({\n",
    "    'animal': ['Alligator', 'Baboon', 'Cockatoo', 'Alligator', 'Baboon', 'Cockatoo'],\n",
    "    'length': [2.7432, 0.762, 0.4572, 1.524, 0.801, 0.4307],  # meters\n",
    "    'width': [0.613, 0.2703, 0.1043, 0.787, 0.3303, 0.2672],  # meters\n",
    "    },\n",
    "    columns=['animal', 'length', 'width'],\n",
    ")\n",
    "\n",
    "#8.2分组统计分析\n",
    "#按照animal进行group，然后分别汇总min,median,max,sum\n",
    "df.groupby('animal').aggregate(['min', np.median, max, sum])# List item for each aggregate function to run   \n",
    "df.groupby('animal').std()\n",
    "\n",
    "#或者下面的方法，只对部分列进行操作\n",
    "df.groupby('animal').aggregate({'length': 'min', 'width': 'max'})\n",
    "\n",
    "\n",
    "#8.3建立函数，根据group的条件，进行每行的数据筛选\n",
    "def filter_func(x):\n",
    "    # Only keep group with std deviation above 4.\n",
    "    return x['width'].std() > 0.1\n",
    "\n",
    "# Filter rows based on group's characteristics \n",
    "df.groupby('animal').filter(filter_func)\n",
    "\n",
    "#8.4建立函数，根据group的特征进行，进行每行的数据处理\n",
    "def transform_func(group):\n",
    "    return group - group.mean()\n",
    "    \n",
    "df.groupby('animal').transform(transform_func)\n",
    "\n",
    "#8.5建立函数，进行每行的数据处理Apply function to each row!\n",
    "def norm_by_data2(group):\n",
    "    group['length'] /= group['width'].sum()\n",
    "    return group\n",
    "\n",
    "df.groupby('animal').apply(norm_by_data2)\n",
    "\n",
    "#将columns变成index，从而index不再是默认的0、1、2、3.。。\n"
   ]
  },
  {
   "cell_type": "markdown",
   "metadata": {},
   "source": [
    "## 8.6处理字符串"
   ]
  },
  {
   "cell_type": "code",
   "execution_count": null,
   "metadata": {},
   "outputs": [],
   "source": [
    "#9.对字符串数组的操作，利用series：Vectorize String Operations\n",
    "\n",
    "#9.1定义\n",
    "bears = pd.Series((\n",
    "    'Cheer Bear',\n",
    "    'Share Bear',\n",
    "    'Funshine Bear',\n",
    "    'Grumpy Bear',\n",
    "    'Tenderheart Bear',\n",
    "    'Harmony Bear',\n",
    "    'Wonderheart Bear',\n",
    "    'Brave Heart Lion',\n",
    "))\n",
    "#9.2函数操作\n",
    "bears.str.lower()#转化为小写字母\n",
    "bears.str.len()#求长度\n",
    "bears.str.startswith('C')#是否以‘C’开头\n",
    "#有一堆操作函数\n",
    "#https://blog.csdn.net/haiyu94/article/details/75575163"
   ]
  },
  {
   "cell_type": "markdown",
   "metadata": {},
   "source": [
    "## 8.7dates and time"
   ]
  },
  {
   "cell_type": "code",
   "execution_count": null,
   "metadata": {},
   "outputs": [],
   "source": [
    "date = np.array('2018-02-27', dtype=np.datetime64)\n",
    "\n",
    "#求连续一段时间的列表\n",
    "date + np.arange(10)  # cool datetime math连续的十天\n",
    "pd.date_range('2017-07-28', '2017-08-03')\n",
    "\n",
    "#识别不同日期格式 Pandas can parse some complex datetimes\n",
    "print(pd.to_datetime('2017-07-07 05:59'))\n",
    "print(pd.to_datetime('07/07/2017 5:59 am'))\n",
    "print(pd.to_datetime('2017/07/07 05:59 AM'))\n",
    "print(pd.to_datetime('20170707 5:59a'))\n",
    "print(pd.to_datetime('7th of July, 2017 5:59AM'))\n",
    "\n",
    "# 求一定间隔后的时间Can parse out Timedelta's and ranges\n",
    "pd.to_datetime('2017-07-07 05:59') + pd.to_timedelta('10 m')\n",
    "\n",
    "dates = pd.date_range('2017-07-01', periods=10, freq='M')\n",
    "dates\n",
    "\n",
    "# 把时间作为index使用DatetimeIndex can be used like any other index\n",
    "pd.Series(rng.rand(len(dates)), index=dates)"
   ]
  },
  {
   "cell_type": "markdown",
   "metadata": {},
   "source": [
    "# 9.scipy "
   ]
  },
  {
   "cell_type": "markdown",
   "metadata": {},
   "source": [
    "9.1基本介绍——SciPy的结构\n",
    "scipy.integrate - >积分和普通微分方程\n",
    "scipy.linalg - >线性代数\n",
    "scipy.ndimage - >图像处理\n",
    "scipy.optimize - >优化和根查找(root finding)\n",
    "scipy.special - >特殊功能\n",
    "scipy.stats - >统计功能"
   ]
  },
  {
   "cell_type": "markdown",
   "metadata": {},
   "source": [
    "# 10.sympy"
   ]
  },
  {
   "cell_type": "markdown",
   "metadata": {},
   "source": [
    "符号计算 (Symbolic computation)\n",
    "到目前为止，我们只考虑了数值计算。 (So far, we only considered the numerical computation.)\n",
    "\n",
    "Python也可以通过模块表征进行符号计算。(Python can also work with symbolic computation via  module sympy.)\n",
    "\n",
    "符号计算可用于计算方程，积分等的显式解。 (Symbolic computation can be useful for calculating explicit solutions to equations, integrations and so on.)"
   ]
  },
  {
   "cell_type": "code",
   "execution_count": 3,
   "metadata": {},
   "outputs": [
    {
     "name": "stdout",
     "output_type": "stream",
     "text": [
      "2*x**2 - 2*x + 1\n"
     ]
    }
   ],
   "source": [
    "#1.定义\n",
    "\n",
    "import sympy as sy\n",
    "\n",
    "#声明x，y为变量\n",
    "x = sy.Symbol('x')\n",
    "y = sy.Symbol('y')\n",
    "a, b = sy.symbols('a b')\n",
    "\n",
    "#创建一个新符号（不是函数\n",
    "f = x**2 + 2 - 2*x + x**2 -1\n",
    "print(f)\n",
    "#自动简化\n"
   ]
  },
  {
   "cell_type": "code",
   "execution_count": null,
   "metadata": {},
   "outputs": [],
   "source": [
    "#2.求解方程\n",
    "x  = sy.Symbol ('x')\n",
    "y  = sy.Symbol('y')\n",
    "\n",
    "# 给定[-1,1]  (give [-1, 1])\n",
    "print(sy.solve (x**2 - 1))\n",
    "\n",
    "# 不能证解决 (no guarantee for solution)\n",
    "print(sy.solve(x**3  +  0.5*x**2 - 1))\n",
    "\n",
    "# 用x的表达式表示y     (exepress x in terms of y)\n",
    "print (sy.solve(x**3  +  y**2))\n",
    "\n",
    "# 错误：找不到算法 (error:  no  algorithm  can  be  found)\n",
    "print(sy.solve(x**x + 2*x - 1))"
   ]
  },
  {
   "cell_type": "code",
   "execution_count": 7,
   "metadata": {},
   "outputs": [
    {
     "ename": "NameError",
     "evalue": "name 'ab' is not defined",
     "output_type": "error",
     "traceback": [
      "\u001b[1;31m---------------------------------------------------------------------------\u001b[0m",
      "\u001b[1;31mNameError\u001b[0m                                 Traceback (most recent call last)",
      "\u001b[1;32m<ipython-input-7-9526b517e0b7>\u001b[0m in \u001b[0;36m<module>\u001b[1;34m\u001b[0m\n\u001b[0;32m      7\u001b[0m \u001b[1;31m# 单变量 single  variable\u001b[0m\u001b[1;33m\u001b[0m\u001b[1;33m\u001b[0m\u001b[1;33m\u001b[0m\u001b[0m\n\u001b[0;32m      8\u001b[0m \u001b[0mf\u001b[0m \u001b[1;33m=\u001b[0m \u001b[0msy\u001b[0m\u001b[1;33m.\u001b[0m\u001b[0msin\u001b[0m\u001b[1;33m(\u001b[0m\u001b[0mx\u001b[0m\u001b[1;33m)\u001b[0m \u001b[1;33m+\u001b[0m \u001b[0msy\u001b[0m\u001b[1;33m.\u001b[0m\u001b[0mexp\u001b[0m\u001b[1;33m(\u001b[0m\u001b[0mx\u001b[0m\u001b[1;33m)\u001b[0m\u001b[1;33m\u001b[0m\u001b[1;33m\u001b[0m\u001b[0m\n\u001b[1;32m----> 9\u001b[1;33m \u001b[0mprint\u001b[0m\u001b[1;33m(\u001b[0m\u001b[0msy\u001b[0m\u001b[1;33m.\u001b[0m\u001b[0mintegrate\u001b[0m\u001b[1;33m(\u001b[0m\u001b[0mf\u001b[0m\u001b[1;33m,\u001b[0m\u001b[1;33m(\u001b[0m\u001b[0mx\u001b[0m\u001b[1;33m,\u001b[0m\u001b[0mab\u001b[0m\u001b[1;33m)\u001b[0m\u001b[1;33m)\u001b[0m\u001b[1;33m)\u001b[0m\u001b[1;33m\u001b[0m\u001b[1;33m\u001b[0m\u001b[0m\n\u001b[0m\u001b[0;32m     10\u001b[0m \u001b[0mprint\u001b[0m\u001b[1;33m(\u001b[0m\u001b[0msy\u001b[0m\u001b[1;33m.\u001b[0m\u001b[0mintegrate\u001b[0m\u001b[1;33m(\u001b[0m\u001b[0mf\u001b[0m\u001b[1;33m,\u001b[0m \u001b[1;33m(\u001b[0m\u001b[0mx\u001b[0m\u001b[1;33m,\u001b[0m  \u001b[1;36m1\u001b[0m\u001b[1;33m,\u001b[0m  \u001b[1;36m2\u001b[0m\u001b[1;33m)\u001b[0m\u001b[1;33m)\u001b[0m\u001b[1;33m)\u001b[0m\u001b[1;33m\u001b[0m\u001b[1;33m\u001b[0m\u001b[0m\n\u001b[0;32m     11\u001b[0m \u001b[0mprint\u001b[0m\u001b[1;33m(\u001b[0m\u001b[0msy\u001b[0m\u001b[1;33m.\u001b[0m\u001b[0mintegrate\u001b[0m\u001b[1;33m(\u001b[0m\u001b[0mf\u001b[0m\u001b[1;33m,\u001b[0m \u001b[1;33m(\u001b[0m\u001b[0mx\u001b[0m\u001b[1;33m,\u001b[0m  \u001b[1;36m1.0\u001b[0m\u001b[1;33m,\u001b[0m\u001b[1;36m2.0\u001b[0m\u001b[1;33m)\u001b[0m\u001b[1;33m)\u001b[0m\u001b[1;33m)\u001b[0m\u001b[1;33m\u001b[0m\u001b[1;33m\u001b[0m\u001b[0m\n",
      "\u001b[1;31mNameError\u001b[0m: name 'ab' is not defined"
     ]
    }
   ],
   "source": [
    "#3.求积分\n",
    "\n",
    "x = sy.Symbol('x')\n",
    "y = sy.Symbol('y')\n",
    "b = sy.symbols ('ab')\n",
    "\n",
    "# 单变量 single  variable\n",
    "f = sy.sin(x) + sy.exp(x)\n",
    "print(sy.integrate(f,(x,ab)))\n",
    "print(sy.integrate(f, (x,  1,  2)))\n",
    "print(sy.integrate(f, (x,  1.0,2.0)))\n",
    "# 多变量 multi variables\n",
    "g = sy.exp(x) + x * sy.sin(y)\n",
    "print(sy.integrate(g, (y,a,b)))"
   ]
  },
  {
   "cell_type": "code",
   "execution_count": 8,
   "metadata": {},
   "outputs": [
    {
     "name": "stdout",
     "output_type": "stream",
     "text": [
      "x**x*(log(x) + 1) - sin(x)\n",
      "-x*sin(y) + 1/y\n"
     ]
    }
   ],
   "source": [
    "#求微分\n",
    "import sympy as sy\n",
    "x =  sy.Symbol( 'x')\n",
    "y =  sy.Symbol( 'y')\n",
    "# 单变量 (single variable)\n",
    "f = sy.cos(x) + x**x\n",
    "print(sy . diff (f ,  x))\n",
    "#  多变量  (multi variables)\n",
    "g = sy.cos(y) * x + sy.log(y)\n",
    "print(sy.diff (g,  y))"
   ]
  }
 ],
 "metadata": {
  "kernelspec": {
   "display_name": "Python 3",
   "language": "python",
   "name": "python3"
  },
  "language_info": {
   "codemirror_mode": {
    "name": "ipython",
    "version": 3
   },
   "file_extension": ".py",
   "mimetype": "text/x-python",
   "name": "python",
   "nbconvert_exporter": "python",
   "pygments_lexer": "ipython3",
   "version": "3.7.1"
  }
 },
 "nbformat": 4,
 "nbformat_minor": 2
}
